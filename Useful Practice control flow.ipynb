{
 "cells": [
  {
   "cell_type": "code",
   "execution_count": null,
   "metadata": {},
   "outputs": [],
   "source": [
    "Control Flow\n",
    "If condition\n",
    "a=int(input())\n",
    "b=int(input())\n",
    "if a>b:\n",
    "    print(a)\n",
    "if b>a:\n",
    "    print(b)\n",
    "Else condition.\n",
    "a=int(input())\n",
    "b=int(input())\n",
    "if a>b:\n",
    "    print(a)\n",
    "else:\n",
    "    print(b)\n",
    "190\n",
    "876\n",
    "876\n",
    "a=int(input())\n",
    "b=int(input())\n",
    "if a>b:\n",
    "    print(a)\n",
    "    print(\"if part\")\n",
    "else:\n",
    "    print(b)\n",
    "    print(\"else part\")\n",
    "a=int(input())\n",
    "b=int(input())\n",
    "if a>b:\n",
    "    print(a)\n",
    "    print(\"if part\")\n",
    "else:\n",
    "    print(b)\n",
    "    print(\"else part\")\n",
    "109\n",
    "109\n",
    "109\n",
    "else part\n",
    "If-Elif-Else Condition\n",
    "a=int(input())\n",
    "b=int(input())\n",
    "if b>a:\n",
    "    print(b)\n",
    "elif a==b:\n",
    "    print(a==b)\n",
    "​\n",
    "else:\n",
    "    print(a)\n",
    "13\n",
    "13\n",
    "True\n",
    "x=11\n",
    "y=9\n",
    "if y==x:\n",
    "    print(\"X\")\n",
    "elif y>x:\n",
    "    print(\"Y\")\n",
    "else:\n",
    "    print(\"X\")\n",
    "X"
   ]
  },
  {
   "cell_type": "code",
   "execution_count": 14,
   "metadata": {},
   "outputs": [
    {
     "name": "stdin",
     "output_type": "stream",
     "text": [
      "Enter Marks : 70\n"
     ]
    },
    {
     "name": "stdout",
     "output_type": "stream",
     "text": [
      "A- Grade\n"
     ]
    }
   ],
   "source": [
    "a=int(input(\"Enter Marks:\"))\n",
    "if a>=85:\n",
    "    print(\" A Grade \")\n",
    "elif (a<85) and (a>=80):\n",
    "            print( \"A- Grade\")\n",
    "elif a<80 or a>=75:\n",
    "         print(\"B Grade\")"
   ]
  },
  {
   "cell_type": "code",
   "execution_count": null,
   "metadata": {},
   "outputs": [],
   "source": [
    "elif a<80 or a>=75:\n",
    "      print(\"B Grade\")\n",
    "elif a<75 or a>=70:\n",
    "    print( \"B- Grade\")\n",
    "elif a<70 or a>=60"
   ]
  },
  {
   "cell_type": "code",
   "execution_count": 2,
   "metadata": {},
   "outputs": [
    {
     "name": "stdout",
     "output_type": "stream",
     "text": [
      "Enter Marks :23\n",
      "Tabah\n"
     ]
    }
   ],
   "source": [
    "x=int(input(\"Enter Marks :\"))\n",
    "if x>=85:\n",
    "    print(\"A Grade\")\n",
    "elif x<85 and x>=80:\n",
    "    print(\"A- Grade\")\n",
    "elif x<80 and x>=75:\n",
    "    print(\"B grade\")\n",
    "elif x<75 and x>=70:\n",
    "    print( \"B- Grade\")\n",
    "elif x<70 and x>=65:\n",
    "    print(\"C Grade\")\n",
    "elif x<65 and x>=60:\n",
    "    print(\"Gharq\")\n",
    "elif x<60 and x>=50:\n",
    "    print(\"Dazedalai\")\n",
    "else:\n",
    "    print(\"Tabah\")"
   ]
  },
  {
   "cell_type": "code",
   "execution_count": 1,
   "metadata": {},
   "outputs": [
    {
     "name": "stdout",
     "output_type": "stream",
     "text": [
      "Enter Real number:-7.89\n",
      "-7\n",
      "Enter Real number:9.89\n",
      "10\n"
     ]
    }
   ],
   "source": [
    "x=float(input(\"Enter Real number:\"))\n",
    "y=round(x)\n",
    "if x<0:\n",
    "      if x>y:\n",
    "        integer_portion=y+1\n",
    "else:\n",
    "    integer_portion=y\n",
    "print(integer_portion)\n",
    "\n",
    "\n",
    "# In[45]:\n",
    "\n",
    "\n",
    "x=float(input(\"Enter Real number:\"))\n",
    "y=round(x)\n",
    "if x<0:\n",
    "      if x>y:\n",
    "        integer_portion=y+1\n",
    "else:\n",
    "    integer_portion=y\n",
    "print(integer_portion)"
   ]
  },
  {
   "cell_type": "code",
   "execution_count": null,
   "metadata": {},
   "outputs": [],
   "source": []
  }
 ],
 "metadata": {
  "kernelspec": {
   "display_name": "Python 3",
   "language": "python",
   "name": "python3"
  },
  "language_info": {
   "codemirror_mode": {
    "name": "ipython",
    "version": 3
   },
   "file_extension": ".py",
   "mimetype": "text/x-python",
   "name": "python",
   "nbconvert_exporter": "python",
   "pygments_lexer": "ipython3",
   "version": "3.8.8"
  }
 },
 "nbformat": 4,
 "nbformat_minor": 4
}
